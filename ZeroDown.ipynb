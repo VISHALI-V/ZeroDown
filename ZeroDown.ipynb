{
  "nbformat": 4,
  "nbformat_minor": 0,
  "metadata": {
    "colab": {
      "name": "ZeroDown.ipynb",
      "provenance": [],
      "collapsed_sections": []
    },
    "kernelspec": {
      "name": "python3",
      "display_name": "Python 3"
    },
    "language_info": {
      "name": "python"
    }
  },
  "cells": [
    {
      "cell_type": "code",
      "execution_count": null,
      "metadata": {
        "id": "a73da7wpV2-3"
      },
      "outputs": [],
      "source": [
        "!pip install geopandas\n",
        "import geopandas as gpd\n"
      ]
    },
    {
      "cell_type": "code",
      "source": [
        "df = gpd.read_file(\"IBTrACS.ALL.list.v04r00.lines.shp\")"
      ],
      "metadata": {
        "id": "wyW03xa3rOiO"
      },
      "execution_count": null,
      "outputs": []
    },
    {
      "cell_type": "code",
      "source": [
        "print(df)"
      ],
      "metadata": {
        "id": "SLICZnEPdBcM"
      },
      "execution_count": null,
      "outputs": []
    },
    {
      "cell_type": "code",
      "source": [
        "df.dropna(axis=1,how='all',inplace=True)"
      ],
      "metadata": {
        "id": "O9JzCTeXsGfK"
      },
      "execution_count": null,
      "outputs": []
    },
    {
      "cell_type": "code",
      "source": [
        "df.dropna(axis=0,how='all',inplace=True)"
      ],
      "metadata": {
        "id": "R5pgysVZsdLH"
      },
      "execution_count": null,
      "outputs": []
    },
    {
      "cell_type": "code",
      "source": [
        "import pymongo"
      ],
      "metadata": {
        "id": "XWxf2SGJ8FqJ"
      },
      "execution_count": null,
      "outputs": []
    },
    {
      "cell_type": "code",
      "source": [
        "!pip install pymongo[srv]"
      ],
      "metadata": {
        "id": "u6lS6XhT159U"
      },
      "execution_count": null,
      "outputs": []
    },
    {
      "cell_type": "code",
      "source": [
        "!pip install dnspython"
      ],
      "metadata": {
        "id": "IWp3XbjQ6YbA"
      },
      "execution_count": null,
      "outputs": []
    },
    {
      "cell_type": "code",
      "source": [
        "con = \"mongodb+srv://\" + \"ZeroDown_Task\" + \":\" + \"vishali01\" + \"@hurricanes.mlalq.mongodb.net/myFirstDatabase?retryWrites=true&w=majority\"\n",
        "client = pymongo.MongoClient(con)"
      ],
      "metadata": {
        "id": "qmpI1fPfjebz"
      },
      "execution_count": null,
      "outputs": []
    },
    {
      "cell_type": "code",
      "source": [
        "db = client.test"
      ],
      "metadata": {
        "id": "hJrwJsG59Led"
      },
      "execution_count": null,
      "outputs": []
    },
    {
      "cell_type": "code",
      "source": [
        "collection = db['Hurrican_Data']"
      ],
      "metadata": {
        "id": "pJGroL-h9P82"
      },
      "execution_count": null,
      "outputs": []
    },
    {
      "cell_type": "code",
      "source": [
        "df1=df[:100]\n",
        "df1"
      ],
      "metadata": {
        "id": "IwgXSZzkBQDW"
      },
      "execution_count": null,
      "outputs": []
    },
    {
      "cell_type": "code",
      "source": [
        "df_dict = df1.to_dict('record')"
      ],
      "metadata": {
        "id": "eRW_hQQh97qr"
      },
      "execution_count": null,
      "outputs": []
    },
    {
      "cell_type": "code",
      "source": [
        "collection.insert_many(df_dict)"
      ],
      "metadata": {
        "id": "HPevEmF2-kxU"
      },
      "execution_count": null,
      "outputs": []
    },
    {
      "cell_type": "code",
      "source": [
        "df.to_csv('Hurricanes.csv')"
      ],
      "metadata": {
        "id": "tE5ybQBLBdnd"
      },
      "execution_count": null,
      "outputs": []
    },
    {
      "cell_type": "code",
      "source": [
        "df.plot()"
      ],
      "metadata": {
        "id": "gloFsjabp1wq"
      },
      "execution_count": null,
      "outputs": []
    },
    {
      "cell_type": "code",
      "source": [
        "df.geometry"
      ],
      "metadata": {
        "id": "ST8NylZmtGCq"
      },
      "execution_count": null,
      "outputs": []
    }
  ]
}